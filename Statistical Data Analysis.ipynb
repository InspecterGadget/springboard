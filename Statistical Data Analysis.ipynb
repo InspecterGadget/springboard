{
 "cells": [
  {
   "cell_type": "code",
   "execution_count": 1,
   "metadata": {},
   "outputs": [],
   "source": [
    "import pandas as pd\n",
    "import matplotlib.pyplot as plt\n",
    "import seaborn as sns\n",
    "import numpy as np\n",
    "sns.set()\n"
   ]
  },
  {
   "cell_type": "code",
   "execution_count": 2,
   "metadata": {},
   "outputs": [],
   "source": [
    "clean_ncaa = pd.read_excel('All Data Clean Rd5.xlsx')"
   ]
  },
  {
   "cell_type": "code",
   "execution_count": 3,
   "metadata": {},
   "outputs": [],
   "source": [
    "def permutation_sample(data1, data2):\n",
    "    \"\"\"Generate a permutation sample from two data sets.\"\"\"\n",
    "\n",
    "    # Concatenate the data sets: data\n",
    "    data = np.concatenate((data1, data2))\n",
    "\n",
    "    # Permute the concatenated array: permuted_data\n",
    "    permuted_data = np.random.permutation(data)\n",
    "\n",
    "    # Split the permuted array into two: perm_sample_1, perm_sample_2\n",
    "    perm_sample_1 = permuted_data[:len(data1)]\n",
    "    perm_sample_2 = permuted_data[len(data1):]\n",
    "\n",
    "    return perm_sample_1, perm_sample_2"
   ]
  },
  {
   "cell_type": "code",
   "execution_count": 4,
   "metadata": {},
   "outputs": [],
   "source": [
    "def draw_perm_reps(data_1, data_2, func, size=1):\n",
    "    \"\"\"Generate multiple permutation replicates.\"\"\"\n",
    "\n",
    "    # Initialize array of replicates: perm_replicates\n",
    "    perm_replicates = np.empty(size)\n",
    "\n",
    "    for i in range(size):\n",
    "        # Generate permutation sample\n",
    "        perm_sample_1, perm_sample_2 = permutation_sample(data_1, data_2)\n",
    "\n",
    "        # Compute the test statistic\n",
    "        perm_replicates[i] = func(perm_sample_1, perm_sample_2)\n",
    "    return perm_replicates"
   ]
  },
  {
   "cell_type": "code",
   "execution_count": 5,
   "metadata": {},
   "outputs": [],
   "source": [
    "before = clean_ncaa[clean_ncaa['SC Change'] == 'Before']\n",
    "after = clean_ncaa[clean_ncaa['SC Change'] == 'After']"
   ]
  },
  {
   "cell_type": "code",
   "execution_count": 6,
   "metadata": {},
   "outputs": [],
   "source": [
    "def diff_of_means(data_1, data_2):\n",
    "    \"\"\"Difference in means of two arrays.\"\"\"\n",
    "\n",
    "    # The difference of means of data_1, data_2: diff\n",
    "    diff = np.mean(data_1) - np.mean(data_2)\n",
    "\n",
    "    return diff\n"
   ]
  },
  {
   "cell_type": "code",
   "execution_count": 7,
   "metadata": {},
   "outputs": [],
   "source": [
    " def pre_post_sc_pvalue(stat):   \n",
    "    # Compute difference of mean impact force from experiment: empirical_diff_means\n",
    "    empirical_diff_means = diff_of_means(before[stat], after[stat])\n",
    "\n",
    "    # Draw 10,000 permutation replicates: perm_replicates\n",
    "    perm_replicates = draw_perm_reps(before[stat], after[stat],\n",
    "                                     diff_of_means, size=10000)\n",
    "\n",
    "    # Compute p-value: p\n",
    "    if empirical_diff_means > 0:\n",
    "        print(\"Decrease in:\", stat, \"after the shot clock change\")\n",
    "        p = np.sum(perm_replicates >= empirical_diff_means) / len(perm_replicates)\n",
    "    else:\n",
    "        print(\"Increase in:\", stat, \"after the shot clock change\")\n",
    "        p = np.sum(perm_replicates <= empirical_diff_means) / len(perm_replicates)\n",
    "\n",
    "    # Print the result\n",
    "    print('p-value =', p)"
   ]
  },
  {
   "cell_type": "code",
   "execution_count": 8,
   "metadata": {},
   "outputs": [
    {
     "name": "stdout",
     "output_type": "stream",
     "text": [
      "Increase in: PQ average after the shot clock change\n",
      "p-value = 0.2011\n"
     ]
    }
   ],
   "source": [
    "pre_post_sc_pvalue('PQ average')"
   ]
  },
  {
   "cell_type": "code",
   "execution_count": 9,
   "metadata": {},
   "outputs": [
    {
     "name": "stdout",
     "output_type": "stream",
     "text": [
      "Increase in: FGA after the shot clock change\n",
      "p-value = 0.0\n"
     ]
    }
   ],
   "source": [
    "pre_post_sc_pvalue('FGA')"
   ]
  },
  {
   "cell_type": "code",
   "execution_count": 10,
   "metadata": {},
   "outputs": [
    {
     "name": "stdout",
     "output_type": "stream",
     "text": [
      "Increase in: 3PA% after the shot clock change\n",
      "p-value = 0.0\n"
     ]
    }
   ],
   "source": [
    "pre_post_sc_pvalue('3PA%')"
   ]
  },
  {
   "cell_type": "code",
   "execution_count": 11,
   "metadata": {},
   "outputs": [
    {
     "name": "stdout",
     "output_type": "stream",
     "text": [
      "Decrease in: ORB after the shot clock change\n",
      "p-value = 0.0\n"
     ]
    }
   ],
   "source": [
    "pre_post_sc_pvalue('ORB')"
   ]
  },
  {
   "cell_type": "code",
   "execution_count": 12,
   "metadata": {},
   "outputs": [
    {
     "name": "stdout",
     "output_type": "stream",
     "text": [
      "Increase in: 3P% after the shot clock change\n",
      "p-value = 0.0\n"
     ]
    }
   ],
   "source": [
    "pre_post_sc_pvalue('3P%')"
   ]
  },
  {
   "cell_type": "code",
   "execution_count": 13,
   "metadata": {},
   "outputs": [
    {
     "name": "stdout",
     "output_type": "stream",
     "text": [
      "Decrease in: BLK after the shot clock change\n",
      "p-value = 0.0089\n"
     ]
    }
   ],
   "source": [
    "pre_post_sc_pvalue('BLK')"
   ]
  },
  {
   "cell_type": "code",
   "execution_count": 14,
   "metadata": {},
   "outputs": [
    {
     "name": "stdout",
     "output_type": "stream",
     "text": [
      "Decrease in: SRS after the shot clock change\n",
      "p-value = 0.4212\n"
     ]
    }
   ],
   "source": [
    "pre_post_sc_pvalue('SRS')"
   ]
  },
  {
   "cell_type": "code",
   "execution_count": 15,
   "metadata": {},
   "outputs": [
    {
     "name": "stdout",
     "output_type": "stream",
     "text": [
      "Increase in: FG% after the shot clock change\n",
      "p-value = 0.0\n"
     ]
    }
   ],
   "source": [
    "pre_post_sc_pvalue('FG%')"
   ]
  },
  {
   "cell_type": "code",
   "execution_count": 16,
   "metadata": {},
   "outputs": [
    {
     "data": {
      "text/plain": [
       "0.01017771587060229"
      ]
     },
     "execution_count": 16,
     "metadata": {},
     "output_type": "execute_result"
    }
   ],
   "source": [
    "np.corrcoef(clean_ncaa['FG%'], clean_ncaa['3PA%'])[0,1]"
   ]
  },
  {
   "cell_type": "code",
   "execution_count": 17,
   "metadata": {},
   "outputs": [],
   "source": [
    "clean_ncaa['2pa'] = clean_ncaa['FGA'] - clean_ncaa['3PA']\n",
    "clean_ncaa['2pm'] = clean_ncaa['FG'] - clean_ncaa['3P']\n",
    "clean_ncaa['2P%'] = clean_ncaa['2pm']/clean_ncaa['2pa']"
   ]
  },
  {
   "cell_type": "code",
   "execution_count": 18,
   "metadata": {},
   "outputs": [
    {
     "data": {
      "text/plain": [
       "0.2906548436476493"
      ]
     },
     "execution_count": 18,
     "metadata": {},
     "output_type": "execute_result"
    }
   ],
   "source": [
    "np.corrcoef(clean_ncaa['2P%'], clean_ncaa['3PA%'])[0,1]"
   ]
  },
  {
   "cell_type": "code",
   "execution_count": 19,
   "metadata": {},
   "outputs": [
    {
     "data": {
      "text/plain": [
       "0.9822926892296282"
      ]
     },
     "execution_count": 19,
     "metadata": {},
     "output_type": "execute_result"
    }
   ],
   "source": [
    "np.mean(clean_ncaa['2P%'])*2"
   ]
  },
  {
   "cell_type": "code",
   "execution_count": 20,
   "metadata": {},
   "outputs": [
    {
     "data": {
      "text/plain": [
       "1.0358198198198205"
      ]
     },
     "execution_count": 20,
     "metadata": {},
     "output_type": "execute_result"
    }
   ],
   "source": [
    "np.mean(clean_ncaa['3P%'])*3"
   ]
  },
  {
   "cell_type": "code",
   "execution_count": 21,
   "metadata": {},
   "outputs": [],
   "source": [
    "clean_ncaa['true_shoot%_diff'] = clean_ncaa['2P%']*2 - clean_ncaa['3P%'] *3"
   ]
  },
  {
   "cell_type": "code",
   "execution_count": 22,
   "metadata": {},
   "outputs": [
    {
     "data": {
      "text/plain": [
       "-0.05352713059019091"
      ]
     },
     "execution_count": 22,
     "metadata": {},
     "output_type": "execute_result"
    }
   ],
   "source": [
    "np.mean(clean_ncaa['true_shoot%_diff'])"
   ]
  },
  {
   "cell_type": "code",
   "execution_count": 23,
   "metadata": {},
   "outputs": [],
   "source": [
    "before = clean_ncaa[clean_ncaa['SC Change'] == 'Before']\n",
    "after = clean_ncaa[clean_ncaa['SC Change'] == 'After']"
   ]
  },
  {
   "cell_type": "code",
   "execution_count": 24,
   "metadata": {},
   "outputs": [
    {
     "name": "stdout",
     "output_type": "stream",
     "text": [
      "True shoot diff before =  -0.062011857410067914\n",
      "True shoot diff after =  -0.04504240377031386\n"
     ]
    }
   ],
   "source": [
    "print('True shoot diff before = ', np.mean(before['true_shoot%_diff']))\n",
    "print('True shoot diff after = ', np.mean(after['true_shoot%_diff']))"
   ]
  },
  {
   "cell_type": "code",
   "execution_count": 25,
   "metadata": {},
   "outputs": [
    {
     "name": "stdout",
     "output_type": "stream",
     "text": [
      "Increase in: true_shoot%_diff after the shot clock change\n",
      "p-value = 0.0\n"
     ]
    }
   ],
   "source": [
    "pre_post_sc_pvalue('true_shoot%_diff')"
   ]
  },
  {
   "cell_type": "code",
   "execution_count": 26,
   "metadata": {},
   "outputs": [
    {
     "name": "stdout",
     "output_type": "stream",
     "text": [
      "Decrease in: FTA after the shot clock change\n",
      "p-value = 0.0\n"
     ]
    }
   ],
   "source": [
    "pre_post_sc_pvalue('FTA')"
   ]
  },
  {
   "cell_type": "code",
   "execution_count": 27,
   "metadata": {},
   "outputs": [
    {
     "data": {
      "text/plain": [
       "0.09733735334448884"
      ]
     },
     "execution_count": 27,
     "metadata": {},
     "output_type": "execute_result"
    }
   ],
   "source": [
    "np.corrcoef(clean_ncaa['ORB'], clean_ncaa['true_shoot%_diff'])[0,1]"
   ]
  },
  {
   "cell_type": "code",
   "execution_count": 28,
   "metadata": {},
   "outputs": [
    {
     "data": {
      "text/plain": [
       "0.09099912156235164"
      ]
     },
     "execution_count": 28,
     "metadata": {},
     "output_type": "execute_result"
    }
   ],
   "source": [
    "np.corrcoef(clean_ncaa['FTA'], clean_ncaa['true_shoot%_diff'])[0,1]"
   ]
  },
  {
   "cell_type": "code",
   "execution_count": null,
   "metadata": {},
   "outputs": [],
   "source": []
  }
 ],
 "metadata": {
  "kernelspec": {
   "display_name": "Python 3",
   "language": "python",
   "name": "python3"
  },
  "language_info": {
   "codemirror_mode": {
    "name": "ipython",
    "version": 3
   },
   "file_extension": ".py",
   "mimetype": "text/x-python",
   "name": "python",
   "nbconvert_exporter": "python",
   "pygments_lexer": "ipython3",
   "version": "3.7.3"
  }
 },
 "nbformat": 4,
 "nbformat_minor": 2
}
